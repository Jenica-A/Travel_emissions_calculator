{
 "cells": [
  {
   "cell_type": "markdown",
   "id": "649fbfd7-56a5-487e-a494-5b04cc01fdf5",
   "metadata": {},
   "source": [
    "## Travel emissions calculator "
   ]
  },
  {
   "cell_type": "markdown",
   "id": "e10c119d-ce83-48d2-b49b-235b289b5ee2",
   "metadata": {},
   "source": [
    "Abstract:\n",
    "    Emissions from travel are a major source of ghg emissions in Burning Man's ghg profile. To fix it, we must know it and track it. This project is a calculator for participants, staff an outside venders to use to track their emissoins. \n",
    "\n",
    "**Design:**  \n",
    "This project will perform emissions calculations and report them in Streamlit.\n",
    "It will calculate:   \n",
    "- Personal vehicle emissions with input of miles traveled, number of passenger, vehicle mpg, (is there an emissions API I can link to?). Approximate idle time during arrival and exodus. \n",
    "- Flight emissions with input of departure city, layover cities, destination city. Airplane will be asked (which can be found in flight itinerary from booking company). If aiplane is unknown, a general one will be used based on average plane type for flight distance.\n",
    "- Bus emissions based on starting point and arrival point\n",
    "- Train emissions based on multiple choice of rail type (commuter, regional, etc..) and possibly distance. \n",
    "- Boat emissions based on boat type and distance\n",
    "- Reported human powered emissions (bike etc.) would produce a celebration graphic  \n",
    "\n",
    "\n",
    "\n",
    "**Data:**    \n",
    "Data would be provided by user. If results can be submitted to a collective database, they will be collected and stored in a sql db or on aws.   \n",
    "\n",
    "**Algorithms:**  \n",
    "To perform calculations.. *\n",
    "\n",
    "**Tools:**   \n",
    "Back end: This project will use python and Jupyter notebooks. I will search for API's for lat long and emissions by vehicle data.\n",
    "Front end: streamlit will be used for the UI\n",
    "\n",
    "**Communications:**  \n",
    "This will be shared to my github and the streamlit ap will be circulated. Eventually, hosting this calculator somewhere more stable, robust, dynamic than streamlit would be good. \n",
    "\n",
    "**MVP:**   \n",
    "The minimum viable product for this project is an emissions calculation in streamlit based only on miles driven"
   ]
  },
  {
   "cell_type": "code",
   "execution_count": 1,
   "id": "ce07b828-1af5-4e1e-be4b-4996d24a1432",
   "metadata": {},
   "outputs": [],
   "source": [
    "import streamlit as st"
   ]
  },
  {
   "cell_type": "code",
   "execution_count": null,
   "id": "8146f42c-685a-4b4a-81ee-ea685b199b62",
   "metadata": {},
   "outputs": [],
   "source": [
    "import streamlit as st\n",
    "\n",
    "# Function to calculate CO2e emissions\n",
    "def calculate_emissions(miles_traveled, occupancy):\n",
    "    # Constants for emission factors (in kg CO2e per mile)\n",
    "    CAR_EMISSION_FACTOR = 0.45\n",
    "    BUS_EMISSION_FACTOR = 0.1\n",
    "    BIKE_EMISSION_FACTOR = 0  # Bicycles have negligible emissions\n",
    "    \n",
    "    # Calculate emissions based on vehicle type\n",
    "    if vehicle_type == \"Car\":\n",
    "        emissions = miles_traveled * occupancy * CAR_EMISSION_FACTOR\n",
    "    elif vehicle_type == \"Bus\":\n",
    "        emissions = miles_traveled * occupancy * BUS_EMISSION_FACTOR\n",
    "    elif vehicle_type == \"Bicycle\":\n",
    "        emissions = miles_traveled * occupancy * BIKE_EMISSION_FACTOR\n",
    "    else:\n",
    "        emissions = 0\n",
    "    \n",
    "    return emissions\n",
    "\n",
    "# Streamlit app\n",
    "st.title(\"CO2e Emissions Calculator\")\n",
    "\n",
    "# Input fields\n",
    "miles_traveled = st.number_input(\"Enter miles traveled:\", min_value=0, step=0.1)\n",
    "occupancy = st.number_input(\"Enter passenger occupancy:\", min_value=1, step=1)\n",
    "vehicle_type = st.selectbox(\"Select vehicle type:\", [\"Car\", \"Bus\", \"Bicycle\"])\n",
    "\n",
    "# Calculate and display emissions\n",
    "emissions = calculate_emissions(miles_traveled, occupancy)\n",
    "st.write(f\"CO2e Emissions: {emissions:.2f} kg\")\n",
    "\n",
    "# Note: This is a simplified example. Emission factors used here are for demonstration purposes and may not reflect actual values."
   ]
  }
 ],
 "metadata": {
  "kernelspec": {
   "display_name": "Python 3 (ipykernel)",
   "language": "python",
   "name": "python3"
  },
  "language_info": {
   "codemirror_mode": {
    "name": "ipython",
    "version": 3
   },
   "file_extension": ".py",
   "mimetype": "text/x-python",
   "name": "python",
   "nbconvert_exporter": "python",
   "pygments_lexer": "ipython3",
   "version": "3.10.8"
  }
 },
 "nbformat": 4,
 "nbformat_minor": 5
}
